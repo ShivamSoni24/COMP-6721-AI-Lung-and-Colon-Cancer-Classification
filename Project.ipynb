{
 "cells": [
  {
   "cell_type": "code",
   "execution_count": 1,
   "id": "fc707ae4",
   "metadata": {},
   "outputs": [],
   "source": [
    "import pandas as pd\n",
    "import numpy as np\n",
    "import os\n",
    "import tensorflow as tf\n",
    "from PIL import Image\n",
    "import matplotlib.pyplot as plt\n",
    "from sklearn.model_selection import train_test_split\n",
    "import torch\n",
    "import torchvision.transforms as transforms\n",
    "from sklearn.preprocessing import LabelEncoder"
   ]
  },
  {
   "cell_type": "code",
   "execution_count": 2,
   "id": "6c71f958",
   "metadata": {},
   "outputs": [],
   "source": [
    "file = []\n",
    "labels = []\n",
    "size = []\n",
    "for dirname,_, filenames in os.walk('lung_colon_image_set'):\n",
    "    for filename in filenames:\n",
    "        if not filename.lower().endswith('.ds_store'):\n",
    "            if \"lung_aca\" in dirname:\n",
    "                labels.append(\"Lung Adenocarcinoma\")\n",
    "            elif \"lung_n\" in dirname:\n",
    "                labels.append(\"Lung Benign Tissue\")\n",
    "            elif \"lung_scc\" in dirname:\n",
    "                labels.append(\"Lung Squamous Cell Carcinoma\")\n",
    "            elif \"colon_n\" in dirname:\n",
    "                labels.append(\"Colon Benign Tissue\")\n",
    "            elif \"colon_aca\" in dirname:\n",
    "                labels.append(\"Colon Adenocarcinoma\")\n",
    "            file.append(os.path.join(dirname, filename))"
   ]
  },
  {
   "cell_type": "code",
   "execution_count": 3,
   "id": "ed08190c",
   "metadata": {},
   "outputs": [],
   "source": [
    "Slabels = pd.Series(labels,name=\"Labels\")\n",
    "Sfile  = pd.Series(file,name=\"Filepaths\")\n",
    "data = pd.concat([Sfile,Slabels],axis=1)"
   ]
  },
  {
   "cell_type": "code",
   "execution_count": 4,
   "id": "76d20a34",
   "metadata": {},
   "outputs": [
    {
     "data": {
      "text/html": [
       "<div>\n",
       "<style scoped>\n",
       "    .dataframe tbody tr th:only-of-type {\n",
       "        vertical-align: middle;\n",
       "    }\n",
       "\n",
       "    .dataframe tbody tr th {\n",
       "        vertical-align: top;\n",
       "    }\n",
       "\n",
       "    .dataframe thead th {\n",
       "        text-align: right;\n",
       "    }\n",
       "</style>\n",
       "<table border=\"1\" class=\"dataframe\">\n",
       "  <thead>\n",
       "    <tr style=\"text-align: right;\">\n",
       "      <th></th>\n",
       "      <th>Filepaths</th>\n",
       "      <th>Labels</th>\n",
       "    </tr>\n",
       "  </thead>\n",
       "  <tbody>\n",
       "    <tr>\n",
       "      <th>0</th>\n",
       "      <td>lung_colon_image_set/lung_image_sets/lung_aca/...</td>\n",
       "      <td>Lung Adenocarcinoma</td>\n",
       "    </tr>\n",
       "    <tr>\n",
       "      <th>1</th>\n",
       "      <td>lung_colon_image_set/lung_image_sets/lung_aca/...</td>\n",
       "      <td>Lung Adenocarcinoma</td>\n",
       "    </tr>\n",
       "    <tr>\n",
       "      <th>2</th>\n",
       "      <td>lung_colon_image_set/lung_image_sets/lung_aca/...</td>\n",
       "      <td>Lung Adenocarcinoma</td>\n",
       "    </tr>\n",
       "    <tr>\n",
       "      <th>3</th>\n",
       "      <td>lung_colon_image_set/lung_image_sets/lung_aca/...</td>\n",
       "      <td>Lung Adenocarcinoma</td>\n",
       "    </tr>\n",
       "    <tr>\n",
       "      <th>4</th>\n",
       "      <td>lung_colon_image_set/lung_image_sets/lung_aca/...</td>\n",
       "      <td>Lung Adenocarcinoma</td>\n",
       "    </tr>\n",
       "  </tbody>\n",
       "</table>\n",
       "</div>"
      ],
      "text/plain": [
       "                                           Filepaths               Labels\n",
       "0  lung_colon_image_set/lung_image_sets/lung_aca/...  Lung Adenocarcinoma\n",
       "1  lung_colon_image_set/lung_image_sets/lung_aca/...  Lung Adenocarcinoma\n",
       "2  lung_colon_image_set/lung_image_sets/lung_aca/...  Lung Adenocarcinoma\n",
       "3  lung_colon_image_set/lung_image_sets/lung_aca/...  Lung Adenocarcinoma\n",
       "4  lung_colon_image_set/lung_image_sets/lung_aca/...  Lung Adenocarcinoma"
      ]
     },
     "execution_count": 4,
     "metadata": {},
     "output_type": "execute_result"
    }
   ],
   "source": [
    "data.head()"
   ]
  },
  {
   "cell_type": "code",
   "execution_count": 5,
   "id": "7ea553ec",
   "metadata": {},
   "outputs": [
    {
     "name": "stdout",
     "output_type": "stream",
     "text": [
      "<class 'pandas.core.frame.DataFrame'>\n",
      "RangeIndex: 25000 entries, 0 to 24999\n",
      "Data columns (total 2 columns):\n",
      " #   Column     Non-Null Count  Dtype \n",
      "---  ------     --------------  ----- \n",
      " 0   Filepaths  25000 non-null  object\n",
      " 1   Labels     25000 non-null  object\n",
      "dtypes: object(2)\n",
      "memory usage: 390.8+ KB\n"
     ]
    }
   ],
   "source": [
    "data.info()"
   ]
  },
  {
   "cell_type": "code",
   "execution_count": 6,
   "id": "81adfda7",
   "metadata": {},
   "outputs": [
    {
     "data": {
      "text/plain": [
       "Filepaths    0\n",
       "Labels       0\n",
       "dtype: int64"
      ]
     },
     "execution_count": 6,
     "metadata": {},
     "output_type": "execute_result"
    }
   ],
   "source": [
    "data.isnull().sum()"
   ]
  },
  {
   "cell_type": "code",
   "execution_count": 7,
   "id": "66b2a34a",
   "metadata": {},
   "outputs": [
    {
     "data": {
      "text/plain": [
       "Lung Adenocarcinoma             5000\n",
       "Lung Benign Tissue              5000\n",
       "Lung Squamous Cell Carcinoma    5000\n",
       "Colon Benign Tissue             5000\n",
       "Colon Adenocarcinoma            5000\n",
       "Name: Labels, dtype: int64"
      ]
     },
     "execution_count": 7,
     "metadata": {},
     "output_type": "execute_result"
    }
   ],
   "source": [
    "data['Labels'].value_counts()"
   ]
  },
  {
   "cell_type": "code",
   "execution_count": null,
   "id": "5d0d9c17",
   "metadata": {},
   "outputs": [],
   "source": [
    "transform = transforms.Compose([transforms.ToTensor()])\n",
    "grouped = data.groupby('Labels').head(2)\n",
    "\n",
    "# Create a 2x5 grid of subplots\n",
    "fig, axes = plt.subplots(2, 5, figsize=(10, 4))\n",
    "\n",
    "# Iterate over the groups and plot the images in the subplots\n",
    "for i, (_, row) in enumerate(grouped.iterrows()):\n",
    "    # Extract the filepath and label from the row\n",
    "    filepath = row['Filepaths']\n",
    "    label = row['Labels']\n",
    "\n",
    "    # Convert the filepath to a string\n",
    "    filepath = str(filepath)\n",
    "\n",
    "    # Open the image file\n",
    "    image = Image.open(filepath)\n",
    "\n",
    "    # Apply the transformation to convert the image to a tensor\n",
    "    tensor = transform(image)\n",
    "\n",
    "    # Convert the tensor to a numpy array\n",
    "    array = tensor.numpy()\n",
    "\n",
    "    # Plot the image in the corresponding subplot\n",
    "    ax = axes[i // 5, i % 5]\n",
    "    ax.imshow(array.transpose(1, 2, 0))\n",
    "    ax.axis('off')\n",
    "    annotation_x = image.width // 2\n",
    "    annotation_y = image.height + 2\n",
    "    # Annotate the image with its label\n",
    "    ax.annotate(label, (annotation_x, annotation_y), color='red', ha='center', va='top')\n",
    "\n",
    "# Adjust the spacing between subplots\n",
    "plt.tight_layout()\n",
    "\n",
    "# Show the plot\n",
    "plt.show()\n"
   ]
  },
  {
   "cell_type": "code",
   "execution_count": null,
   "id": "c1dcc147",
   "metadata": {},
   "outputs": [],
   "source": [
    "encoder = LabelEncoder()\n",
    "encoded = encoder.fit_transform(data['Labels'])\n",
    "reverse_mapping = dict(zip(encoder.transform(encoder.classes_), encoder.classes_))\n",
    "# Print the mapping\n",
    "for number, label in reverse_mapping.items():\n",
    "    print(\"Number: {}, Label: {}\".format(number, label))"
   ]
  },
  {
   "cell_type": "code",
   "execution_count": null,
   "id": "88d92624",
   "metadata": {},
   "outputs": [],
   "source": [
    "traindf,validationdf = train_test_split(data,random_state=25,train_size=0.8,stratify = data['Labels'])\n",
    "validationdf,testdf = train_test_split(validationdf,random_state=25,train_size=0.5 ,stratify = validationdf['Labels'])"
   ]
  },
  {
   "cell_type": "code",
   "execution_count": null,
   "id": "c4a27121",
   "metadata": {},
   "outputs": [],
   "source": [
    "traindf[\"Labels\"].value_counts()"
   ]
  },
  {
   "cell_type": "code",
   "execution_count": null,
   "id": "a6a13a22",
   "metadata": {},
   "outputs": [],
   "source": [
    "validationdf['Labels'].value_counts()"
   ]
  },
  {
   "cell_type": "code",
   "execution_count": null,
   "id": "94ce9486",
   "metadata": {},
   "outputs": [],
   "source": [
    "testdf['Labels'].value_counts()"
   ]
  },
  {
   "cell_type": "code",
   "execution_count": null,
   "id": "90b6c9e1",
   "metadata": {},
   "outputs": [],
   "source": [
    "def resize_image(image_path, new_width, new_height):\n",
    "    image = Image.open(image_path)\n",
    "    resized_image = image.resize((new_width, new_height))\n",
    "    return resized_image\n",
    "\n",
    "# Define the new width and height for resizing\n",
    "new_width = 228\n",
    "new_height = 228\n",
    "\n",
    "# Apply the resize_image function to each image in the DataFrame\n",
    "data['resized_image'] = data['Filepaths'].apply(lambda path: resize_image(path, new_width, new_height))"
   ]
  },
  {
   "cell_type": "code",
   "execution_count": null,
   "id": "13c4616d",
   "metadata": {},
   "outputs": [],
   "source": [
    "d = data.copy()\n",
    "vector = []\n",
    "for i in range(len(d)):\n",
    "    filepath = d['Filepaths'][i]\n",
    "     # Convert the filepath to a string\n",
    "    filepath = str(filepath)\n",
    "    # Open the image file\n",
    "    image = Image.open(filepath)\n",
    "    # Apply the transformation to convert the image to a tensor\n",
    "    tensor = transform(image)\n",
    "    # Convert the tensor to a numpy array\n",
    "    array = tensor.numpy()\n",
    "    vector.append(array)\n",
    "\n",
    "vectorS = pd.series(vector,name=\"Vector\")\n",
    "d['Vector'] = vectorS\n",
    "d.head()"
   ]
  },
  {
   "cell_type": "code",
   "execution_count": null,
   "id": "a5a12eda",
   "metadata": {},
   "outputs": [],
   "source": []
  }
 ],
 "metadata": {
  "kernelspec": {
   "display_name": "Python 3 (ipykernel)",
   "language": "python",
   "name": "python3"
  },
  "language_info": {
   "codemirror_mode": {
    "name": "ipython",
    "version": 3
   },
   "file_extension": ".py",
   "mimetype": "text/x-python",
   "name": "python",
   "nbconvert_exporter": "python",
   "pygments_lexer": "ipython3",
   "version": "3.9.13"
  }
 },
 "nbformat": 4,
 "nbformat_minor": 5
}
